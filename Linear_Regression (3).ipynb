{
  "nbformat": 4,
  "nbformat_minor": 0,
  "metadata": {
    "colab": {
      "name": "Linear Regression.ipynb",
      "provenance": [],
      "collapsed_sections": [
        "22nCVfiQn7Nh",
        "W5caA5zZpAi-"
      ]
    },
    "kernelspec": {
      "name": "python3",
      "display_name": "Python 3"
    }
  },
  "cells": [
    {
      "cell_type": "code",
      "metadata": {
        "colab": {
          "base_uri": "https://localhost:8080/"
        },
        "id": "WMm_fX6NWoBB",
        "outputId": "d2326b43-29c9-4abd-83cc-7be10e8632fd"
      },
      "source": [
        "from google.colab import drive\n",
        "drive.mount('drive')"
      ],
      "execution_count": null,
      "outputs": [
        {
          "output_type": "stream",
          "text": [
            "Drive already mounted at drive; to attempt to forcibly remount, call drive.mount(\"drive\", force_remount=True).\n"
          ],
          "name": "stdout"
        }
      ]
    },
    {
      "cell_type": "code",
      "metadata": {
        "id": "t7oc0Pt_dyZV"
      },
      "source": [
        "import numpy as np\n",
        "import pandas as pd\n",
        "import matplotlib.pyplot as plt\n",
        "import seaborn as sns"
      ],
      "execution_count": null,
      "outputs": []
    },
    {
      "cell_type": "code",
      "metadata": {
        "colab": {
          "base_uri": "https://localhost:8080/",
          "height": 402
        },
        "id": "W51bM7GZXFQg",
        "outputId": "a693ca7d-ef4f-4a6f-e51c-9dac9c2b97e3"
      },
      "source": [
        "diamond_df=pd.read_csv('/content/drive/MyDrive/DataSets/diamonds (1).csv')\n",
        "diamond_df"
      ],
      "execution_count": null,
      "outputs": [
        {
          "output_type": "execute_result",
          "data": {
            "text/html": [
              "<div>\n",
              "<style scoped>\n",
              "    .dataframe tbody tr th:only-of-type {\n",
              "        vertical-align: middle;\n",
              "    }\n",
              "\n",
              "    .dataframe tbody tr th {\n",
              "        vertical-align: top;\n",
              "    }\n",
              "\n",
              "    .dataframe thead th {\n",
              "        text-align: right;\n",
              "    }\n",
              "</style>\n",
              "<table border=\"1\" class=\"dataframe\">\n",
              "  <thead>\n",
              "    <tr style=\"text-align: right;\">\n",
              "      <th></th>\n",
              "      <th>carat</th>\n",
              "      <th>cut</th>\n",
              "      <th>color</th>\n",
              "      <th>clarity</th>\n",
              "      <th>depth</th>\n",
              "      <th>table</th>\n",
              "      <th>price</th>\n",
              "      <th>x</th>\n",
              "      <th>y</th>\n",
              "      <th>z</th>\n",
              "    </tr>\n",
              "  </thead>\n",
              "  <tbody>\n",
              "    <tr>\n",
              "      <th>0</th>\n",
              "      <td>0.23</td>\n",
              "      <td>Ideal</td>\n",
              "      <td>E</td>\n",
              "      <td>SI2</td>\n",
              "      <td>61.5</td>\n",
              "      <td>55.0</td>\n",
              "      <td>326</td>\n",
              "      <td>3.95</td>\n",
              "      <td>3.98</td>\n",
              "      <td>2.43</td>\n",
              "    </tr>\n",
              "    <tr>\n",
              "      <th>1</th>\n",
              "      <td>0.21</td>\n",
              "      <td>Premium</td>\n",
              "      <td>E</td>\n",
              "      <td>SI1</td>\n",
              "      <td>59.8</td>\n",
              "      <td>61.0</td>\n",
              "      <td>326</td>\n",
              "      <td>3.89</td>\n",
              "      <td>3.84</td>\n",
              "      <td>2.31</td>\n",
              "    </tr>\n",
              "    <tr>\n",
              "      <th>2</th>\n",
              "      <td>0.23</td>\n",
              "      <td>Good</td>\n",
              "      <td>E</td>\n",
              "      <td>VS1</td>\n",
              "      <td>56.9</td>\n",
              "      <td>65.0</td>\n",
              "      <td>327</td>\n",
              "      <td>4.05</td>\n",
              "      <td>4.07</td>\n",
              "      <td>2.31</td>\n",
              "    </tr>\n",
              "    <tr>\n",
              "      <th>3</th>\n",
              "      <td>0.29</td>\n",
              "      <td>Premium</td>\n",
              "      <td>I</td>\n",
              "      <td>VS2</td>\n",
              "      <td>62.4</td>\n",
              "      <td>58.0</td>\n",
              "      <td>334</td>\n",
              "      <td>4.20</td>\n",
              "      <td>4.23</td>\n",
              "      <td>2.63</td>\n",
              "    </tr>\n",
              "    <tr>\n",
              "      <th>4</th>\n",
              "      <td>0.31</td>\n",
              "      <td>Good</td>\n",
              "      <td>J</td>\n",
              "      <td>SI2</td>\n",
              "      <td>63.3</td>\n",
              "      <td>58.0</td>\n",
              "      <td>335</td>\n",
              "      <td>4.34</td>\n",
              "      <td>4.35</td>\n",
              "      <td>2.75</td>\n",
              "    </tr>\n",
              "    <tr>\n",
              "      <th>...</th>\n",
              "      <td>...</td>\n",
              "      <td>...</td>\n",
              "      <td>...</td>\n",
              "      <td>...</td>\n",
              "      <td>...</td>\n",
              "      <td>...</td>\n",
              "      <td>...</td>\n",
              "      <td>...</td>\n",
              "      <td>...</td>\n",
              "      <td>...</td>\n",
              "    </tr>\n",
              "    <tr>\n",
              "      <th>53935</th>\n",
              "      <td>0.72</td>\n",
              "      <td>Ideal</td>\n",
              "      <td>D</td>\n",
              "      <td>SI1</td>\n",
              "      <td>60.8</td>\n",
              "      <td>57.0</td>\n",
              "      <td>2757</td>\n",
              "      <td>5.75</td>\n",
              "      <td>5.76</td>\n",
              "      <td>3.50</td>\n",
              "    </tr>\n",
              "    <tr>\n",
              "      <th>53936</th>\n",
              "      <td>0.72</td>\n",
              "      <td>Good</td>\n",
              "      <td>D</td>\n",
              "      <td>SI1</td>\n",
              "      <td>63.1</td>\n",
              "      <td>55.0</td>\n",
              "      <td>2757</td>\n",
              "      <td>5.69</td>\n",
              "      <td>5.75</td>\n",
              "      <td>3.61</td>\n",
              "    </tr>\n",
              "    <tr>\n",
              "      <th>53937</th>\n",
              "      <td>0.70</td>\n",
              "      <td>Very Good</td>\n",
              "      <td>D</td>\n",
              "      <td>SI1</td>\n",
              "      <td>62.8</td>\n",
              "      <td>60.0</td>\n",
              "      <td>2757</td>\n",
              "      <td>5.66</td>\n",
              "      <td>5.68</td>\n",
              "      <td>3.56</td>\n",
              "    </tr>\n",
              "    <tr>\n",
              "      <th>53938</th>\n",
              "      <td>0.86</td>\n",
              "      <td>Premium</td>\n",
              "      <td>H</td>\n",
              "      <td>SI2</td>\n",
              "      <td>61.0</td>\n",
              "      <td>58.0</td>\n",
              "      <td>2757</td>\n",
              "      <td>6.15</td>\n",
              "      <td>6.12</td>\n",
              "      <td>3.74</td>\n",
              "    </tr>\n",
              "    <tr>\n",
              "      <th>53939</th>\n",
              "      <td>0.75</td>\n",
              "      <td>Ideal</td>\n",
              "      <td>D</td>\n",
              "      <td>SI2</td>\n",
              "      <td>62.2</td>\n",
              "      <td>55.0</td>\n",
              "      <td>2757</td>\n",
              "      <td>5.83</td>\n",
              "      <td>5.87</td>\n",
              "      <td>3.64</td>\n",
              "    </tr>\n",
              "  </tbody>\n",
              "</table>\n",
              "<p>53940 rows × 10 columns</p>\n",
              "</div>"
            ],
            "text/plain": [
              "       carat        cut color clarity  depth  table  price     x     y     z\n",
              "0       0.23      Ideal     E     SI2   61.5   55.0    326  3.95  3.98  2.43\n",
              "1       0.21    Premium     E     SI1   59.8   61.0    326  3.89  3.84  2.31\n",
              "2       0.23       Good     E     VS1   56.9   65.0    327  4.05  4.07  2.31\n",
              "3       0.29    Premium     I     VS2   62.4   58.0    334  4.20  4.23  2.63\n",
              "4       0.31       Good     J     SI2   63.3   58.0    335  4.34  4.35  2.75\n",
              "...      ...        ...   ...     ...    ...    ...    ...   ...   ...   ...\n",
              "53935   0.72      Ideal     D     SI1   60.8   57.0   2757  5.75  5.76  3.50\n",
              "53936   0.72       Good     D     SI1   63.1   55.0   2757  5.69  5.75  3.61\n",
              "53937   0.70  Very Good     D     SI1   62.8   60.0   2757  5.66  5.68  3.56\n",
              "53938   0.86    Premium     H     SI2   61.0   58.0   2757  6.15  6.12  3.74\n",
              "53939   0.75      Ideal     D     SI2   62.2   55.0   2757  5.83  5.87  3.64\n",
              "\n",
              "[53940 rows x 10 columns]"
            ]
          },
          "metadata": {
            "tags": []
          },
          "execution_count": 3
        }
      ]
    },
    {
      "cell_type": "code",
      "metadata": {
        "colab": {
          "base_uri": "https://localhost:8080/"
        },
        "id": "Q9zj8cBWdwZi",
        "outputId": "b477fbaf-2ddd-46f9-d099-35c69c1baee8"
      },
      "source": [
        "diamond_df.info()"
      ],
      "execution_count": null,
      "outputs": [
        {
          "output_type": "stream",
          "text": [
            "<class 'pandas.core.frame.DataFrame'>\n",
            "RangeIndex: 53940 entries, 0 to 53939\n",
            "Data columns (total 10 columns):\n",
            " #   Column   Non-Null Count  Dtype  \n",
            "---  ------   --------------  -----  \n",
            " 0   carat    53940 non-null  float64\n",
            " 1   cut      53940 non-null  object \n",
            " 2   color    53940 non-null  object \n",
            " 3   clarity  53940 non-null  object \n",
            " 4   depth    53940 non-null  float64\n",
            " 5   table    53940 non-null  float64\n",
            " 6   price    53940 non-null  int64  \n",
            " 7   x        53940 non-null  float64\n",
            " 8   y        53940 non-null  float64\n",
            " 9   z        53940 non-null  float64\n",
            "dtypes: float64(6), int64(1), object(3)\n",
            "memory usage: 4.1+ MB\n"
          ],
          "name": "stdout"
        }
      ]
    },
    {
      "cell_type": "code",
      "metadata": {
        "colab": {
          "base_uri": "https://localhost:8080/",
          "height": 296
        },
        "id": "7MqdrQsNd_Tj",
        "outputId": "7ca9315d-e08c-4f21-9e0e-27b3a5756f2f"
      },
      "source": [
        "sns.kdeplot(diamond_df.price)"
      ],
      "execution_count": null,
      "outputs": [
        {
          "output_type": "execute_result",
          "data": {
            "text/plain": [
              "<matplotlib.axes._subplots.AxesSubplot at 0x7f00af0cd1d0>"
            ]
          },
          "metadata": {
            "tags": []
          },
          "execution_count": 5
        },
        {
          "output_type": "display_data",
          "data": {
            "image/png": "[encoded data removed]",
            "text/plain": [
              "<Figure size 432x288 with 1 Axes>"
            ]
          },
          "metadata": {
            "tags": [],
            "needs_background": "light"
          }
        }
      ]
    },
    {
      "cell_type": "code",
      "metadata": {
        "colab": {
          "base_uri": "https://localhost:8080/"
        },
        "id": "Hd30esE6ecq4",
        "outputId": "15d6c6ec-acec-49ed-99c5-3d35e1746e9e"
      },
      "source": [
        "print('The Skewness of the distribution is ',diamond_df.price.kurt())\n",
        "print('The Kurtosis of the distribution is ',diamond_df.price.skew())"
      ],
      "execution_count": null,
      "outputs": [
        {
          "output_type": "stream",
          "text": [
            "The Skewness of the distribution is  2.17769575924869\n",
            "The Kurtosis of the distribution is  1.618395283383529\n"
          ],
          "name": "stdout"
        }
      ]
    },
    {
      "cell_type": "markdown",
      "metadata": {
        "id": "QgJsnEa91Zqk"
      },
      "source": [
        "## Observations:\n",
        "\n",
        "- Since the skewness is greater than 1 there seem to be lot of prices which are extreme values. \n",
        "- Even the kurtosis is greater which indicates flatter tails which is clearly a lot to the right."
      ]
    },
    {
      "cell_type": "code",
      "metadata": {
        "id": "o6DWPGmaxWU0"
      },
      "source": [
        "sns.regplot(x=diamond_df.carat,y=diamond_df.price)\n",
        "plt.show()"
      ],
      "execution_count": null,
      "outputs": []
    },
    {
      "cell_type": "markdown",
      "metadata": {
        "id": "xAo1PW7fxJRf"
      },
      "source": [
        "##Observations:\n",
        "\n",
        "- We can see that there exists some relationship between carat and the price of the diamonds."
      ]
    },
    {
      "cell_type": "code",
      "metadata": {
        "id": "WX2wmY27v-Ic"
      },
      "source": [
        "sns.regplot(x=diamond_df.depth,y=diamond_df.price)\n",
        "plt.show()"
      ],
      "execution_count": null,
      "outputs": []
    },
    {
      "cell_type": "markdown",
      "metadata": {
        "id": "Bvf7QAYX34R7"
      },
      "source": [
        "## Observations:\n",
        "\n",
        "- There is not much effect of depth on diamond Price"
      ]
    },
    {
      "cell_type": "code",
      "metadata": {
        "id": "MXwxbyJ6xp5q"
      },
      "source": [
        "plt.figure(figsize=(10,8))\n",
        "p=sns.heatmap(diamond_df.corr(), annot=True,cmap='RdYlGn',square=True)"
      ],
      "execution_count": null,
      "outputs": []
    },
    {
      "cell_type": "markdown",
      "metadata": {
        "id": "IcFxwurrRsU2"
      },
      "source": [
        "## Observations:\n",
        "\n",
        "- From the above heatmap we can see that only Carat,x,y,z have good affect on price variable. so let's consider these and build our model."
      ]
    },
    {
      "cell_type": "code",
      "metadata": {
        "id": "SvAqCnpe5jKu"
      },
      "source": [
        "diamond_df.describe()"
      ],
      "execution_count": null,
      "outputs": []
    },
    {
      "cell_type": "markdown",
      "metadata": {
        "id": "wzkAejqgmIoR"
      },
      "source": [
        "The minimum values for x,y and z here are 0 but it is not possible because according to the data description they are the length, width and depth"
      ]
    },
    {
      "cell_type": "code",
      "metadata": {
        "id": "WKxVWeI7f1m3"
      },
      "source": [
        "print(\"Number of rows with x == 0: {} \".format((diamond_df.x==0).sum()))\n",
        "print(\"Number of rows with y == 0: {} \".format((diamond_df.y==0).sum()))\n",
        "print(\"Number of rows with z == 0: {} \".format((diamond_df.z==0).sum()))\n",
        "print(\"Number of rows with depth == 0: {} \".format((diamond_df.depth==0).sum()))"
      ],
      "execution_count": null,
      "outputs": []
    },
    {
      "cell_type": "code",
      "metadata": {
        "id": "zYjy0zPRmouH"
      },
      "source": [
        "diamond_df[['x','y','z']]=diamond_df[['x','y','z']].replace(0,np.NaN)"
      ],
      "execution_count": null,
      "outputs": []
    },
    {
      "cell_type": "code",
      "metadata": {
        "id": "gqomfwz_nB1I"
      },
      "source": [
        "diamond_df.isnull().sum()"
      ],
      "execution_count": null,
      "outputs": []
    },
    {
      "cell_type": "markdown",
      "metadata": {
        "id": "22nCVfiQn7Nh"
      },
      "source": [
        "## Treatment of data for missing values"
      ]
    },
    {
      "cell_type": "code",
      "metadata": {
        "id": "pQpWo6pMnt99"
      },
      "source": [
        "diamond_df.dropna(inplace=True)"
      ],
      "execution_count": null,
      "outputs": []
    },
    {
      "cell_type": "code",
      "metadata": {
        "id": "63Ov3IlUoC6c"
      },
      "source": [
        "diamond_df.shape"
      ],
      "execution_count": null,
      "outputs": []
    },
    {
      "cell_type": "code",
      "metadata": {
        "id": "LKsKhxdyoEnb"
      },
      "source": [
        "diamond_df.isnull().sum()"
      ],
      "execution_count": null,
      "outputs": []
    },
    {
      "cell_type": "markdown",
      "metadata": {
        "id": "W5caA5zZpAi-"
      },
      "source": [
        "## What to do with the zero's in x,y and z?"
      ]
    },
    {
      "cell_type": "code",
      "metadata": {
        "id": "VP_srCYDo7LM"
      },
      "source": [
        "p = diamond_df.hist(figsize = (20,20),bins=150)"
      ],
      "execution_count": null,
      "outputs": []
    },
    {
      "cell_type": "markdown",
      "metadata": {
        "id": "BrcGDJBzpmyj"
      },
      "source": [
        "## Categorical Data Essense"
      ]
    },
    {
      "cell_type": "code",
      "metadata": {
        "id": "egorqalNpGnM"
      },
      "source": [
        "p = sns.factorplot(x='cut', data=diamond_df , kind='count',aspect=2.5 )"
      ],
      "execution_count": null,
      "outputs": []
    },
    {
      "cell_type": "code",
      "metadata": {
        "id": "ApV16lHAqCsz"
      },
      "source": [
        "p = sns.factorplot(x='cut',y='price',data=diamond_df , kind='box',aspect=2.5 )"
      ],
      "execution_count": null,
      "outputs": []
    },
    {
      "cell_type": "code",
      "metadata": {
        "id": "lvqDE4xTrecV"
      },
      "source": [
        "p = sns.factorplot(x='color', data=diamond_df , kind='count',aspect=2.5 )"
      ],
      "execution_count": null,
      "outputs": []
    },
    {
      "cell_type": "code",
      "metadata": {
        "id": "I7ImZZEIsPP8"
      },
      "source": [
        "p = sns.factorplot(x='color', y='price', data=diamond_df, kind='box' ,aspect=2.5 )"
      ],
      "execution_count": null,
      "outputs": []
    },
    {
      "cell_type": "code",
      "metadata": {
        "id": "-t4_aHP2sXB2"
      },
      "source": [
        "p = sns.factorplot(x='clarity', data=diamond_df , kind='count',aspect=2.5 )"
      ],
      "execution_count": null,
      "outputs": []
    },
    {
      "cell_type": "code",
      "metadata": {
        "id": "0-LQpUwasfpf"
      },
      "source": [
        "p = sns.factorplot(x='clarity', y='price', data=diamond_df, kind='box' ,aspect=2.5)"
      ],
      "execution_count": null,
      "outputs": []
    },
    {
      "cell_type": "code",
      "metadata": {
        "id": "sJyVjEY-UvIC"
      },
      "source": [
        "numeric_columns=[]\n",
        "for col in diamond_df.columns:\n",
        "    if ( diamond_df[col].dtype ==\"int64\" or  diamond_df[col].dtype=='float64'):\n",
        "        numeric_columns.append(col)"
      ],
      "execution_count": null,
      "outputs": []
    },
    {
      "cell_type": "code",
      "metadata": {
        "id": "Gk1kBRlHUAEu"
      },
      "source": [
        "from collections import Counter\n",
        "def detect_outliers(diamond_df,features):\n",
        "    outlier_indices = []\n",
        "    for c in features:\n",
        "      Q1 =diamond_df[c].quantile(0.25)\n",
        "      Q3 =diamond_df[c].quantile(0.75)\n",
        "      IQR = Q3 - Q1\n",
        "      outlier_list_col =diamond_df[(diamond_df[c] < (Q1 - 1.5 * IQR)) |(diamond_df[c] > (Q3 + 1.5 * IQR))].index\n",
        "      outlier_indices.extend(outlier_list_col)\n",
        "    \n",
        "    outlier_indices = Counter(outlier_indices)\n",
        "    multiple_outliers = list(i for i, v in outlier_indices.items() if v > 2)\n",
        "    \n",
        "    return multiple_outliers\n",
        "diamond_df.loc[detect_outliers(diamond_df,numeric_columns)]\n",
        "diamond_df =diamond_df.drop(detect_outliers(diamond_df,numeric_columns),axis = 0).reset_index(drop = True)"
      ],
      "execution_count": null,
      "outputs": []
    },
    {
      "cell_type": "markdown",
      "metadata": {
        "id": "zDFarjGF8ul_"
      },
      "source": [
        "Mostly the median prices are very low as compared to the the highest price values for all the categories in colors, cut and clarity. The upper quartile is bigger. It shows that whichever category it may be there's a variety of diamonds that are still very expensive."
      ]
    },
    {
      "cell_type": "code",
      "metadata": {
        "id": "LfKh8XYt2MPf"
      },
      "source": [
        "diamond_clean_data_ =  pd.get_dummies(diamond_df,drop_first=True)\n",
        "diamond_clean_data_.head()"
      ],
      "execution_count": null,
      "outputs": []
    },
    {
      "cell_type": "code",
      "metadata": {
        "id": "hmrqknrSG8Br"
      },
      "source": [
        "X=diamond_clean_data_.drop('price',axis=1)\n",
        "Y=diamond_clean_data_['price']"
      ],
      "execution_count": null,
      "outputs": []
    },
    {
      "cell_type": "code",
      "metadata": {
        "id": "l99bHes9-8Zd"
      },
      "source": [
        "numerical_col=X.select_dtypes(include=['int64','float64'])\n",
        "numerical_col"
      ],
      "execution_count": null,
      "outputs": []
    },
    {
      "cell_type": "code",
      "metadata": {
        "id": "_DtoGGXC9fo-"
      },
      "source": [
        "from sklearn.preprocessing import StandardScaler\n",
        "sc_X = StandardScaler()\n",
        "numericals =pd.DataFrame(sc_X.fit_transform(numerical_col),columns=['carat','depth','x','y','z','table'],index=numerical_col.index)"
      ],
      "execution_count": null,
      "outputs": []
    },
    {
      "cell_type": "code",
      "metadata": {
        "id": "cs05bbAEAjfV"
      },
      "source": [
        "numericals"
      ],
      "execution_count": null,
      "outputs": []
    },
    {
      "cell_type": "code",
      "metadata": {
        "id": "7Pnu-RI5ApfS"
      },
      "source": [
        "cat_col=X.select_dtypes(include='uint8')\n",
        "cat_col"
      ],
      "execution_count": null,
      "outputs": []
    },
    {
      "cell_type": "code",
      "metadata": {
        "id": "ZyJmhcexIboX"
      },
      "source": [
        "Scaled_df=pd.concat([numericals,cat_col],axis=1)\n",
        "Scaled_df"
      ],
      "execution_count": null,
      "outputs": []
    },
    {
      "cell_type": "code",
      "metadata": {
        "id": "18uHocYsIsZw"
      },
      "source": [
        "Scaled_df=pd.concat([Scaled_df,Y],axis=1)"
      ],
      "execution_count": null,
      "outputs": []
    },
    {
      "cell_type": "code",
      "metadata": {
        "id": "yloqDdpCJ8f3"
      },
      "source": [
        "Scaled_df"
      ],
      "execution_count": null,
      "outputs": []
    },
    {
      "cell_type": "code",
      "metadata": {
        "colab": {
          "base_uri": "https://localhost:8080/",
          "height": 1000
        },
        "id": "vbxzPNbVKNLh",
        "outputId": "4c0f831a-20c0-4a47-b7ac-4eb3fa5438f8"
      },
      "source": [
        "plt.figure(figsize=(20,20))  # on this line I just set the size of figure to 12 by 10.\n",
        "p=sns.heatmap(Scaled_df.corr(), annot=True,cmap='RdYlGn')  # seaborn has very simple solution for heatmap"
      ],
      "execution_count": null,
      "outputs": [
        {
          "output_type": "display_data",
          "data": {
            "image/png": "[encoded data removed]",
            "text/plain": [
              "<Figure size 1440x1440 with 2 Axes>"
            ]
          },
          "metadata": {
            "tags": []
          }
        }
      ]
    },
    {
      "cell_type": "code",
      "metadata": {
        "id": "xzhkSfAgCXtP"
      },
      "source": [
        "X=Scaled_df.drop('price',axis=1)\n",
        "Y=Scaled_df['price']"
      ],
      "execution_count": null,
      "outputs": []
    },
    {
      "cell_type": "code",
      "metadata": {
        "id": "lPxMwsa3KWAf"
      },
      "source": [
        "from sklearn.model_selection import train_test_split\n",
        "train_x, test_x, train_y, test_y = train_test_split(X,Y,random_state = 2,test_size=0.3)"
      ],
      "execution_count": null,
      "outputs": []
    },
    {
      "cell_type": "code",
      "metadata": {
        "colab": {
          "base_uri": "https://localhost:8080/"
        },
        "id": "z8kDwSjRKkyk",
        "outputId": "5ec5f765-cde0-4c71-dc26-270279ac8817"
      },
      "source": [
        "train_x.shape,test_x.shape,train_y.shape,test_y.shape"
      ],
      "execution_count": null,
      "outputs": [
        {
          "output_type": "execute_result",
          "data": {
            "text/plain": [
              "((37623, 23), (16125, 23), (37623,), (16125,))"
            ]
          },
          "metadata": {
            "tags": []
          },
          "execution_count": 0
        }
      ]
    },
    {
      "cell_type": "code",
      "metadata": {
        "colab": {
          "base_uri": "https://localhost:8080/"
        },
        "id": "etsZ5HjTKtgW",
        "outputId": "058f478b-17c9-4cd9-f269-13688db88e22"
      },
      "source": [
        "from sklearn.metrics import mean_absolute_error\n",
        "from sklearn.metrics import mean_squared_error\n",
        "from sklearn.metrics import r2_score\n",
        "from sklearn import linear_model\n",
        "\n",
        "regr = linear_model.LinearRegression()\n",
        "regr.fit(train_x,train_y)\n",
        "y_pred = regr.predict(test_x)\n",
        "print(\"accuracy: \"+ str(regr.score(test_x,test_y)*100) + \"%\")\n",
        "print(\"Mean absolute error: {}\".format(mean_absolute_error(test_y,y_pred)))\n",
        "print(\"Mean squared error: {}\".format(mean_squared_error(test_y,y_pred)))\n",
        "R2 = r2_score(test_y,y_pred)\n",
        "print('R Squared: {}'.format(R2))\n",
        "n=test_x.shape[0]\n",
        "p=test_x.shape[1] - 1\n",
        "\n",
        "adj_rsquared = 1 - (1 - R2) * ((n - 1)/(n-p-1))\n",
        "print('Adjusted R Squared: {}'.format(adj_rsquared))"
      ],
      "execution_count": null,
      "outputs": [
        {
          "output_type": "stream",
          "text": [
            "accuracy: 89.94098009685445%\n",
            "Mean absolute error: 714.3063958362018\n",
            "Mean squared error: 1523371.2585364324\n",
            "R Squared: 0.8994098009685444\n",
            "Adjusted R Squared: 0.89927236559538\n"
          ],
          "name": "stdout"
        }
      ]
    },
    {
      "cell_type": "code",
      "metadata": {
        "colab": {
          "base_uri": "https://localhost:8080/"
        },
        "id": "Y92AbC4dK7Ng",
        "outputId": "9c11cb36-54cf-4298-d91b-bb5e97826f9b"
      },
      "source": [
        "rig_reg = linear_model.Ridge()\n",
        "rig_reg.fit(train_x,train_y)\n",
        "y_pred = rig_reg.predict(test_x)\n",
        "print(\"accuracy: \"+ str(rig_reg.score(test_x,test_y)*100) + \"%\")\n",
        "print(\"Mean absolute error: {}\".format(mean_absolute_error(test_y,y_pred)))\n",
        "print(\"Mean squared error: {}\".format(mean_squared_error(test_y,y_pred)))\n",
        "R2 = r2_score(test_y,y_pred)\n",
        "print('R Squared: {}'.format(R2))\n",
        "n=test_x.shape[0]\n",
        "p=test_x.shape[1] - 1\n",
        "\n",
        "adj_rsquared = 1 - (1 - R2) * ((n - 1)/(n-p-1))\n",
        "print('Adjusted R Squared: {}'.format(adj_rsquared))"
      ],
      "execution_count": null,
      "outputs": [
        {
          "output_type": "stream",
          "text": [
            "accuracy: 90.02886288334732%\n",
            "Mean absolute error: 713.7196694489229\n",
            "Mean squared error: 1510061.9985536097\n",
            "R Squared: 0.9002886288334732\n",
            "Adjusted R Squared: 0.9001523941939462\n"
          ],
          "name": "stdout"
        }
      ]
    },
    {
      "cell_type": "code",
      "metadata": {
        "colab": {
          "base_uri": "https://localhost:8080/"
        },
        "id": "52qfaAzuOBJj",
        "outputId": "9ec84fa6-a372-4f83-af68-c93e3945f067"
      },
      "source": [
        "las_reg = linear_model.Lasso()\n",
        "las_reg.fit(train_x,train_y)\n",
        "y_pred = las_reg.predict(test_x)\n",
        "print(\"accuracy: \"+ str(las_reg.score(test_x,test_y)*100) + \"%\")\n",
        "print(\"Mean absolute error: {}\".format(mean_absolute_error(test_y,y_pred)))\n",
        "print(\"Mean squared error: {}\".format(mean_squared_error(test_y,y_pred)))\n",
        "R2 = r2_score(test_y,y_pred)\n",
        "print('R Squared: {}'.format(R2))\n",
        "n=test_x.shape[0]\n",
        "p=test_x.shape[1] - 1\n",
        "\n",
        "adj_rsquared = 1 - (1 - R2) * ((n - 1)/(n-p-1))\n",
        "print('Adjusted R Squared: {}'.format(adj_rsquared))"
      ],
      "execution_count": null,
      "outputs": [
        {
          "output_type": "stream",
          "text": [
            "accuracy: 91.58457084252038%\n",
            "Mean absolute error: 706.8400791397668\n",
            "Mean squared error: 1274460.4375168807\n",
            "R Squared: 0.9158457084252039\n",
            "Adjusted R Squared: 0.9157307292664257\n"
          ],
          "name": "stdout"
        },
        {
          "output_type": "stream",
          "text": [
            "/usr/local/lib/python3.6/dist-packages/sklearn/linear_model/_coordinate_descent.py:476: ConvergenceWarning: Objective did not converge. You might want to increase the number of iterations. Duality gap: 1189288831.2642365, tolerance: 58996817.23741253\n",
            "  positive)\n"
          ],
          "name": "stderr"
        }
      ]
    },
    {
      "cell_type": "markdown",
      "metadata": {
        "id": "2IAR4PKGVvjC"
      },
      "source": [
        "## Using all the regressors of Classification models"
      ]
    },
    {
      "cell_type": "code",
      "metadata": {
        "id": "9umQJmh4OqZc"
      },
      "source": [
        "from sklearn.linear_model import LogisticRegression\n",
        "from sklearn.neighbors import KNeighborsRegressor\n",
        "from sklearn.tree import DecisionTreeRegressor\n",
        "from sklearn.ensemble import RandomForestRegressor,AdaBoostRegressor\n",
        "from sklearn.svm import SVR\n",
        "from xgboost import XGBRegressor,XGBRFRegressor\n",
        "from sklearn.model_selection import train_test_split"
      ],
      "execution_count": null,
      "outputs": []
    },
    {
      "cell_type": "code",
      "metadata": {
        "id": "NIw_nW9OWx-J"
      },
      "source": [
        "X_intermediate, X_test, y_intermediate, y_test = train_test_split(X, \n",
        "                                                                  Y, \n",
        "                                                                  shuffle=True,\n",
        "                                                                  test_size=0.2, \n",
        "                                                                  random_state=100)"
      ],
      "execution_count": null,
      "outputs": []
    },
    {
      "cell_type": "code",
      "metadata": {
        "id": "an67DwtyDDSN"
      },
      "source": [
        "X_train, X_validation, y_train, y_validation = train_test_split(X_intermediate,\n",
        "                                                                y_intermediate,\n",
        "                                                                shuffle=False,\n",
        "                                                                test_size=0.25,\n",
        "                                                                random_state=100)"
      ],
      "execution_count": null,
      "outputs": []
    },
    {
      "cell_type": "code",
      "metadata": {
        "id": "uSIIWTYaDN4D"
      },
      "source": [
        "# delete intermediate variables\n",
        "del X_intermediate, y_intermediate"
      ],
      "execution_count": null,
      "outputs": []
    },
    {
      "cell_type": "code",
      "metadata": {
        "colab": {
          "base_uri": "https://localhost:8080/"
        },
        "id": "O-m9KpY3F2fZ",
        "outputId": "c2a9c262-82f2-45a1-9d00-d68607e5e588"
      },
      "source": [
        "print('train: {}% | validation: {}% | test {}%'.format(round(len(y_train)/len(Y),2),\n",
        "                                                       round(len(y_validation)/len(Y),2),\n",
        "                                                       round(len(y_test)/len(Y),2)))"
      ],
      "execution_count": null,
      "outputs": [
        {
          "output_type": "stream",
          "text": [
            "train: 0.6% | validation: 0.2% | test 0.2%\n"
          ],
          "name": "stdout"
        }
      ]
    },
    {
      "cell_type": "code",
      "metadata": {
        "colab": {
          "base_uri": "https://localhost:8080/",
          "height": 438
        },
        "id": "bec3mp7NZRnX",
        "outputId": "eb10a426-9ce8-4747-fa79-78d5adc7d322"
      },
      "source": [
        "X_train"
      ],
      "execution_count": null,
      "outputs": [
        {
          "output_type": "execute_result",
          "data": {
            "text/html": [
              "<div>\n",
              "<style scoped>\n",
              "    .dataframe tbody tr th:only-of-type {\n",
              "        vertical-align: middle;\n",
              "    }\n",
              "\n",
              "    .dataframe tbody tr th {\n",
              "        vertical-align: top;\n",
              "    }\n",
              "\n",
              "    .dataframe thead th {\n",
              "        text-align: right;\n",
              "    }\n",
              "</style>\n",
              "<table border=\"1\" class=\"dataframe\">\n",
              "  <thead>\n",
              "    <tr style=\"text-align: right;\">\n",
              "      <th></th>\n",
              "      <th>carat</th>\n",
              "      <th>depth</th>\n",
              "      <th>x</th>\n",
              "      <th>y</th>\n",
              "      <th>z</th>\n",
              "      <th>table</th>\n",
              "      <th>cut_Good</th>\n",
              "      <th>cut_Ideal</th>\n",
              "      <th>cut_Premium</th>\n",
              "      <th>cut_Very Good</th>\n",
              "      <th>color_E</th>\n",
              "      <th>color_F</th>\n",
              "      <th>color_G</th>\n",
              "      <th>color_H</th>\n",
              "      <th>color_I</th>\n",
              "      <th>color_J</th>\n",
              "      <th>clarity_IF</th>\n",
              "      <th>clarity_SI1</th>\n",
              "      <th>clarity_SI2</th>\n",
              "      <th>clarity_VS1</th>\n",
              "      <th>clarity_VS2</th>\n",
              "      <th>clarity_VVS1</th>\n",
              "      <th>clarity_VVS2</th>\n",
              "    </tr>\n",
              "  </thead>\n",
              "  <tbody>\n",
              "    <tr>\n",
              "      <th>9071</th>\n",
              "      <td>0.445655</td>\n",
              "      <td>0.738373</td>\n",
              "      <td>1.601479</td>\n",
              "      <td>0.529305</td>\n",
              "      <td>0.573173</td>\n",
              "      <td>0.639147</td>\n",
              "      <td>1</td>\n",
              "      <td>0</td>\n",
              "      <td>0</td>\n",
              "      <td>0</td>\n",
              "      <td>0</td>\n",
              "      <td>0</td>\n",
              "      <td>0</td>\n",
              "      <td>0</td>\n",
              "      <td>0</td>\n",
              "      <td>0</td>\n",
              "      <td>0</td>\n",
              "      <td>0</td>\n",
              "      <td>1</td>\n",
              "      <td>0</td>\n",
              "      <td>0</td>\n",
              "      <td>0</td>\n",
              "      <td>0</td>\n",
              "    </tr>\n",
              "    <tr>\n",
              "      <th>45353</th>\n",
              "      <td>-0.607777</td>\n",
              "      <td>0.808805</td>\n",
              "      <td>-0.201832</td>\n",
              "      <td>-0.552226</td>\n",
              "      <td>-0.573558</td>\n",
              "      <td>-0.466078</td>\n",
              "      <td>0</td>\n",
              "      <td>1</td>\n",
              "      <td>0</td>\n",
              "      <td>0</td>\n",
              "      <td>0</td>\n",
              "      <td>1</td>\n",
              "      <td>0</td>\n",
              "      <td>0</td>\n",
              "      <td>0</td>\n",
              "      <td>0</td>\n",
              "      <td>0</td>\n",
              "      <td>0</td>\n",
              "      <td>0</td>\n",
              "      <td>0</td>\n",
              "      <td>1</td>\n",
              "      <td>0</td>\n",
              "      <td>0</td>\n",
              "    </tr>\n",
              "    <tr>\n",
              "      <th>2952</th>\n",
              "      <td>0.080179</td>\n",
              "      <td>1.442698</td>\n",
              "      <td>-1.554315</td>\n",
              "      <td>0.213858</td>\n",
              "      <td>0.284233</td>\n",
              "      <td>0.423843</td>\n",
              "      <td>0</td>\n",
              "      <td>0</td>\n",
              "      <td>0</td>\n",
              "      <td>1</td>\n",
              "      <td>1</td>\n",
              "      <td>0</td>\n",
              "      <td>0</td>\n",
              "      <td>0</td>\n",
              "      <td>0</td>\n",
              "      <td>0</td>\n",
              "      <td>0</td>\n",
              "      <td>1</td>\n",
              "      <td>0</td>\n",
              "      <td>0</td>\n",
              "      <td>0</td>\n",
              "      <td>0</td>\n",
              "      <td>0</td>\n",
              "    </tr>\n",
              "    <tr>\n",
              "      <th>46064</th>\n",
              "      <td>-0.586279</td>\n",
              "      <td>-0.036385</td>\n",
              "      <td>-1.103487</td>\n",
              "      <td>-0.498149</td>\n",
              "      <td>-0.474235</td>\n",
              "      <td>-0.480431</td>\n",
              "      <td>0</td>\n",
              "      <td>1</td>\n",
              "      <td>0</td>\n",
              "      <td>0</td>\n",
              "      <td>0</td>\n",
              "      <td>0</td>\n",
              "      <td>0</td>\n",
              "      <td>1</td>\n",
              "      <td>0</td>\n",
              "      <td>0</td>\n",
              "      <td>0</td>\n",
              "      <td>0</td>\n",
              "      <td>0</td>\n",
              "      <td>0</td>\n",
              "      <td>0</td>\n",
              "      <td>1</td>\n",
              "      <td>0</td>\n",
              "    </tr>\n",
              "    <tr>\n",
              "      <th>3561</th>\n",
              "      <td>0.295165</td>\n",
              "      <td>-1.656334</td>\n",
              "      <td>1.601479</td>\n",
              "      <td>0.466215</td>\n",
              "      <td>0.473849</td>\n",
              "      <td>0.251600</td>\n",
              "      <td>1</td>\n",
              "      <td>0</td>\n",
              "      <td>0</td>\n",
              "      <td>0</td>\n",
              "      <td>0</td>\n",
              "      <td>1</td>\n",
              "      <td>0</td>\n",
              "      <td>0</td>\n",
              "      <td>0</td>\n",
              "      <td>0</td>\n",
              "      <td>0</td>\n",
              "      <td>0</td>\n",
              "      <td>1</td>\n",
              "      <td>0</td>\n",
              "      <td>0</td>\n",
              "      <td>0</td>\n",
              "      <td>0</td>\n",
              "    </tr>\n",
              "    <tr>\n",
              "      <th>...</th>\n",
              "      <td>...</td>\n",
              "      <td>...</td>\n",
              "      <td>...</td>\n",
              "      <td>...</td>\n",
              "      <td>...</td>\n",
              "      <td>...</td>\n",
              "      <td>...</td>\n",
              "      <td>...</td>\n",
              "      <td>...</td>\n",
              "      <td>...</td>\n",
              "      <td>...</td>\n",
              "      <td>...</td>\n",
              "      <td>...</td>\n",
              "      <td>...</td>\n",
              "      <td>...</td>\n",
              "      <td>...</td>\n",
              "      <td>...</td>\n",
              "      <td>...</td>\n",
              "      <td>...</td>\n",
              "      <td>...</td>\n",
              "      <td>...</td>\n",
              "      <td>...</td>\n",
              "      <td>...</td>\n",
              "    </tr>\n",
              "    <tr>\n",
              "      <th>32880</th>\n",
              "      <td>-1.016251</td>\n",
              "      <td>0.174912</td>\n",
              "      <td>-1.103487</td>\n",
              "      <td>-1.201144</td>\n",
              "      <td>-1.178526</td>\n",
              "      <td>-1.155049</td>\n",
              "      <td>0</td>\n",
              "      <td>1</td>\n",
              "      <td>0</td>\n",
              "      <td>0</td>\n",
              "      <td>0</td>\n",
              "      <td>0</td>\n",
              "      <td>0</td>\n",
              "      <td>1</td>\n",
              "      <td>0</td>\n",
              "      <td>0</td>\n",
              "      <td>1</td>\n",
              "      <td>0</td>\n",
              "      <td>0</td>\n",
              "      <td>0</td>\n",
              "      <td>0</td>\n",
              "      <td>0</td>\n",
              "      <td>0</td>\n",
              "    </tr>\n",
              "    <tr>\n",
              "      <th>38819</th>\n",
              "      <td>-0.844262</td>\n",
              "      <td>-0.177250</td>\n",
              "      <td>-1.103487</td>\n",
              "      <td>-0.840634</td>\n",
              "      <td>-0.862497</td>\n",
              "      <td>-0.853624</td>\n",
              "      <td>0</td>\n",
              "      <td>1</td>\n",
              "      <td>0</td>\n",
              "      <td>0</td>\n",
              "      <td>1</td>\n",
              "      <td>0</td>\n",
              "      <td>0</td>\n",
              "      <td>0</td>\n",
              "      <td>0</td>\n",
              "      <td>0</td>\n",
              "      <td>0</td>\n",
              "      <td>0</td>\n",
              "      <td>0</td>\n",
              "      <td>0</td>\n",
              "      <td>0</td>\n",
              "      <td>0</td>\n",
              "      <td>1</td>\n",
              "    </tr>\n",
              "    <tr>\n",
              "      <th>33336</th>\n",
              "      <td>-0.951755</td>\n",
              "      <td>0.527075</td>\n",
              "      <td>-1.103487</td>\n",
              "      <td>-1.102003</td>\n",
              "      <td>-1.061144</td>\n",
              "      <td>-1.011513</td>\n",
              "      <td>0</td>\n",
              "      <td>1</td>\n",
              "      <td>0</td>\n",
              "      <td>0</td>\n",
              "      <td>0</td>\n",
              "      <td>0</td>\n",
              "      <td>0</td>\n",
              "      <td>0</td>\n",
              "      <td>0</td>\n",
              "      <td>0</td>\n",
              "      <td>0</td>\n",
              "      <td>0</td>\n",
              "      <td>0</td>\n",
              "      <td>0</td>\n",
              "      <td>1</td>\n",
              "      <td>0</td>\n",
              "      <td>0</td>\n",
              "    </tr>\n",
              "    <tr>\n",
              "      <th>22619</th>\n",
              "      <td>0.897126</td>\n",
              "      <td>0.034047</td>\n",
              "      <td>-0.201832</td>\n",
              "      <td>0.979942</td>\n",
              "      <td>1.024641</td>\n",
              "      <td>0.997986</td>\n",
              "      <td>0</td>\n",
              "      <td>1</td>\n",
              "      <td>0</td>\n",
              "      <td>0</td>\n",
              "      <td>0</td>\n",
              "      <td>0</td>\n",
              "      <td>1</td>\n",
              "      <td>0</td>\n",
              "      <td>0</td>\n",
              "      <td>0</td>\n",
              "      <td>0</td>\n",
              "      <td>0</td>\n",
              "      <td>0</td>\n",
              "      <td>1</td>\n",
              "      <td>0</td>\n",
              "      <td>0</td>\n",
              "      <td>0</td>\n",
              "    </tr>\n",
              "    <tr>\n",
              "      <th>49701</th>\n",
              "      <td>-0.156306</td>\n",
              "      <td>1.090536</td>\n",
              "      <td>0.699824</td>\n",
              "      <td>-0.056524</td>\n",
              "      <td>-0.095001</td>\n",
              "      <td>0.050651</td>\n",
              "      <td>0</td>\n",
              "      <td>0</td>\n",
              "      <td>0</td>\n",
              "      <td>1</td>\n",
              "      <td>0</td>\n",
              "      <td>0</td>\n",
              "      <td>0</td>\n",
              "      <td>0</td>\n",
              "      <td>1</td>\n",
              "      <td>0</td>\n",
              "      <td>0</td>\n",
              "      <td>0</td>\n",
              "      <td>0</td>\n",
              "      <td>0</td>\n",
              "      <td>1</td>\n",
              "      <td>0</td>\n",
              "      <td>0</td>\n",
              "    </tr>\n",
              "  </tbody>\n",
              "</table>\n",
              "<p>32248 rows × 23 columns</p>\n",
              "</div>"
            ],
            "text/plain": [
              "          carat     depth         x  ...  clarity_VS2  clarity_VVS1  clarity_VVS2\n",
              "9071   0.445655  0.738373  1.601479  ...            0             0             0\n",
              "45353 -0.607777  0.808805 -0.201832  ...            1             0             0\n",
              "2952   0.080179  1.442698 -1.554315  ...            0             0             0\n",
              "46064 -0.586279 -0.036385 -1.103487  ...            0             1             0\n",
              "3561   0.295165 -1.656334  1.601479  ...            0             0             0\n",
              "...         ...       ...       ...  ...          ...           ...           ...\n",
              "32880 -1.016251  0.174912 -1.103487  ...            0             0             0\n",
              "38819 -0.844262 -0.177250 -1.103487  ...            0             0             1\n",
              "33336 -0.951755  0.527075 -1.103487  ...            1             0             0\n",
              "22619  0.897126  0.034047 -0.201832  ...            0             0             0\n",
              "49701 -0.156306  1.090536  0.699824  ...            1             0             0\n",
              "\n",
              "[32248 rows x 23 columns]"
            ]
          },
          "metadata": {
            "tags": []
          },
          "execution_count": 0
        }
      ]
    },
    {
      "cell_type": "code",
      "metadata": {
        "colab": {
          "base_uri": "https://localhost:8080/",
          "height": 438
        },
        "id": "jMiMT6CSZpEJ",
        "outputId": "d232690b-39e7-4972-e615-7338c209d396"
      },
      "source": [
        "X_test"
      ],
      "execution_count": null,
      "outputs": [
        {
          "output_type": "execute_result",
          "data": {
            "text/html": [
              "<div>\n",
              "<style scoped>\n",
              "    .dataframe tbody tr th:only-of-type {\n",
              "        vertical-align: middle;\n",
              "    }\n",
              "\n",
              "    .dataframe tbody tr th {\n",
              "        vertical-align: top;\n",
              "    }\n",
              "\n",
              "    .dataframe thead th {\n",
              "        text-align: right;\n",
              "    }\n",
              "</style>\n",
              "<table border=\"1\" class=\"dataframe\">\n",
              "  <thead>\n",
              "    <tr style=\"text-align: right;\">\n",
              "      <th></th>\n",
              "      <th>carat</th>\n",
              "      <th>depth</th>\n",
              "      <th>x</th>\n",
              "      <th>y</th>\n",
              "      <th>z</th>\n",
              "      <th>table</th>\n",
              "      <th>cut_Good</th>\n",
              "      <th>cut_Ideal</th>\n",
              "      <th>cut_Premium</th>\n",
              "      <th>cut_Very Good</th>\n",
              "      <th>color_E</th>\n",
              "      <th>color_F</th>\n",
              "      <th>color_G</th>\n",
              "      <th>color_H</th>\n",
              "      <th>color_I</th>\n",
              "      <th>color_J</th>\n",
              "      <th>clarity_IF</th>\n",
              "      <th>clarity_SI1</th>\n",
              "      <th>clarity_SI2</th>\n",
              "      <th>clarity_VS1</th>\n",
              "      <th>clarity_VS2</th>\n",
              "      <th>clarity_VVS1</th>\n",
              "      <th>clarity_VVS2</th>\n",
              "    </tr>\n",
              "  </thead>\n",
              "  <tbody>\n",
              "    <tr>\n",
              "      <th>42082</th>\n",
              "      <td>-1.209738</td>\n",
              "      <td>0.104480</td>\n",
              "      <td>-0.201832</td>\n",
              "      <td>-1.633756</td>\n",
              "      <td>-1.611935</td>\n",
              "      <td>-1.585656</td>\n",
              "      <td>0</td>\n",
              "      <td>0</td>\n",
              "      <td>0</td>\n",
              "      <td>1</td>\n",
              "      <td>1</td>\n",
              "      <td>0</td>\n",
              "      <td>0</td>\n",
              "      <td>0</td>\n",
              "      <td>0</td>\n",
              "      <td>0</td>\n",
              "      <td>0</td>\n",
              "      <td>0</td>\n",
              "      <td>0</td>\n",
              "      <td>0</td>\n",
              "      <td>0</td>\n",
              "      <td>0</td>\n",
              "      <td>1</td>\n",
              "    </tr>\n",
              "    <tr>\n",
              "      <th>37125</th>\n",
              "      <td>-0.887259</td>\n",
              "      <td>0.597508</td>\n",
              "      <td>-1.779729</td>\n",
              "      <td>-1.002863</td>\n",
              "      <td>-0.961821</td>\n",
              "      <td>-0.911038</td>\n",
              "      <td>0</td>\n",
              "      <td>1</td>\n",
              "      <td>0</td>\n",
              "      <td>0</td>\n",
              "      <td>1</td>\n",
              "      <td>0</td>\n",
              "      <td>0</td>\n",
              "      <td>0</td>\n",
              "      <td>0</td>\n",
              "      <td>0</td>\n",
              "      <td>0</td>\n",
              "      <td>0</td>\n",
              "      <td>0</td>\n",
              "      <td>1</td>\n",
              "      <td>0</td>\n",
              "      <td>0</td>\n",
              "      <td>0</td>\n",
              "    </tr>\n",
              "    <tr>\n",
              "      <th>30331</th>\n",
              "      <td>-1.145243</td>\n",
              "      <td>-0.318115</td>\n",
              "      <td>-0.201832</td>\n",
              "      <td>-1.444488</td>\n",
              "      <td>-1.422319</td>\n",
              "      <td>-1.442120</td>\n",
              "      <td>0</td>\n",
              "      <td>1</td>\n",
              "      <td>0</td>\n",
              "      <td>0</td>\n",
              "      <td>1</td>\n",
              "      <td>0</td>\n",
              "      <td>0</td>\n",
              "      <td>0</td>\n",
              "      <td>0</td>\n",
              "      <td>0</td>\n",
              "      <td>0</td>\n",
              "      <td>0</td>\n",
              "      <td>0</td>\n",
              "      <td>0</td>\n",
              "      <td>0</td>\n",
              "      <td>0</td>\n",
              "      <td>1</td>\n",
              "    </tr>\n",
              "    <tr>\n",
              "      <th>10243</th>\n",
              "      <td>0.467154</td>\n",
              "      <td>1.372266</td>\n",
              "      <td>1.150652</td>\n",
              "      <td>0.520292</td>\n",
              "      <td>0.564143</td>\n",
              "      <td>0.710915</td>\n",
              "      <td>1</td>\n",
              "      <td>0</td>\n",
              "      <td>0</td>\n",
              "      <td>0</td>\n",
              "      <td>0</td>\n",
              "      <td>0</td>\n",
              "      <td>0</td>\n",
              "      <td>1</td>\n",
              "      <td>0</td>\n",
              "      <td>0</td>\n",
              "      <td>0</td>\n",
              "      <td>1</td>\n",
              "      <td>0</td>\n",
              "      <td>0</td>\n",
              "      <td>0</td>\n",
              "      <td>0</td>\n",
              "      <td>0</td>\n",
              "    </tr>\n",
              "    <tr>\n",
              "      <th>36658</th>\n",
              "      <td>-0.908758</td>\n",
              "      <td>-0.388548</td>\n",
              "      <td>1.150652</td>\n",
              "      <td>-0.984838</td>\n",
              "      <td>-1.025026</td>\n",
              "      <td>-1.025867</td>\n",
              "      <td>0</td>\n",
              "      <td>0</td>\n",
              "      <td>1</td>\n",
              "      <td>0</td>\n",
              "      <td>0</td>\n",
              "      <td>1</td>\n",
              "      <td>0</td>\n",
              "      <td>0</td>\n",
              "      <td>0</td>\n",
              "      <td>0</td>\n",
              "      <td>0</td>\n",
              "      <td>0</td>\n",
              "      <td>0</td>\n",
              "      <td>0</td>\n",
              "      <td>1</td>\n",
              "      <td>0</td>\n",
              "      <td>0</td>\n",
              "    </tr>\n",
              "    <tr>\n",
              "      <th>...</th>\n",
              "      <td>...</td>\n",
              "      <td>...</td>\n",
              "      <td>...</td>\n",
              "      <td>...</td>\n",
              "      <td>...</td>\n",
              "      <td>...</td>\n",
              "      <td>...</td>\n",
              "      <td>...</td>\n",
              "      <td>...</td>\n",
              "      <td>...</td>\n",
              "      <td>...</td>\n",
              "      <td>...</td>\n",
              "      <td>...</td>\n",
              "      <td>...</td>\n",
              "      <td>...</td>\n",
              "      <td>...</td>\n",
              "      <td>...</td>\n",
              "      <td>...</td>\n",
              "      <td>...</td>\n",
              "      <td>...</td>\n",
              "      <td>...</td>\n",
              "      <td>...</td>\n",
              "      <td>...</td>\n",
              "    </tr>\n",
              "    <tr>\n",
              "      <th>9785</th>\n",
              "      <td>0.467154</td>\n",
              "      <td>-0.388548</td>\n",
              "      <td>-1.554315</td>\n",
              "      <td>0.691534</td>\n",
              "      <td>0.717643</td>\n",
              "      <td>0.639147</td>\n",
              "      <td>0</td>\n",
              "      <td>1</td>\n",
              "      <td>0</td>\n",
              "      <td>0</td>\n",
              "      <td>1</td>\n",
              "      <td>0</td>\n",
              "      <td>0</td>\n",
              "      <td>0</td>\n",
              "      <td>0</td>\n",
              "      <td>0</td>\n",
              "      <td>0</td>\n",
              "      <td>0</td>\n",
              "      <td>1</td>\n",
              "      <td>0</td>\n",
              "      <td>0</td>\n",
              "      <td>0</td>\n",
              "      <td>0</td>\n",
              "    </tr>\n",
              "    <tr>\n",
              "      <th>35748</th>\n",
              "      <td>-0.822763</td>\n",
              "      <td>-1.022441</td>\n",
              "      <td>2.503135</td>\n",
              "      <td>-0.831621</td>\n",
              "      <td>-0.853468</td>\n",
              "      <td>-0.925392</td>\n",
              "      <td>0</td>\n",
              "      <td>0</td>\n",
              "      <td>0</td>\n",
              "      <td>1</td>\n",
              "      <td>0</td>\n",
              "      <td>0</td>\n",
              "      <td>0</td>\n",
              "      <td>0</td>\n",
              "      <td>0</td>\n",
              "      <td>0</td>\n",
              "      <td>0</td>\n",
              "      <td>1</td>\n",
              "      <td>0</td>\n",
              "      <td>0</td>\n",
              "      <td>0</td>\n",
              "      <td>0</td>\n",
              "      <td>0</td>\n",
              "    </tr>\n",
              "    <tr>\n",
              "      <th>36884</th>\n",
              "      <td>-0.822763</td>\n",
              "      <td>-1.374604</td>\n",
              "      <td>0.699824</td>\n",
              "      <td>-0.786557</td>\n",
              "      <td>-0.817351</td>\n",
              "      <td>-0.925392</td>\n",
              "      <td>0</td>\n",
              "      <td>0</td>\n",
              "      <td>1</td>\n",
              "      <td>0</td>\n",
              "      <td>0</td>\n",
              "      <td>1</td>\n",
              "      <td>0</td>\n",
              "      <td>0</td>\n",
              "      <td>0</td>\n",
              "      <td>0</td>\n",
              "      <td>0</td>\n",
              "      <td>1</td>\n",
              "      <td>0</td>\n",
              "      <td>0</td>\n",
              "      <td>0</td>\n",
              "      <td>0</td>\n",
              "      <td>0</td>\n",
              "    </tr>\n",
              "    <tr>\n",
              "      <th>17085</th>\n",
              "      <td>0.488652</td>\n",
              "      <td>0.527075</td>\n",
              "      <td>-0.201832</td>\n",
              "      <td>0.574368</td>\n",
              "      <td>0.618319</td>\n",
              "      <td>0.653500</td>\n",
              "      <td>0</td>\n",
              "      <td>0</td>\n",
              "      <td>0</td>\n",
              "      <td>1</td>\n",
              "      <td>1</td>\n",
              "      <td>0</td>\n",
              "      <td>0</td>\n",
              "      <td>0</td>\n",
              "      <td>0</td>\n",
              "      <td>0</td>\n",
              "      <td>0</td>\n",
              "      <td>0</td>\n",
              "      <td>0</td>\n",
              "      <td>0</td>\n",
              "      <td>1</td>\n",
              "      <td>0</td>\n",
              "      <td>0</td>\n",
              "    </tr>\n",
              "    <tr>\n",
              "      <th>9005</th>\n",
              "      <td>0.467154</td>\n",
              "      <td>0.034047</td>\n",
              "      <td>1.601479</td>\n",
              "      <td>0.673509</td>\n",
              "      <td>0.609290</td>\n",
              "      <td>0.639147</td>\n",
              "      <td>0</td>\n",
              "      <td>0</td>\n",
              "      <td>1</td>\n",
              "      <td>0</td>\n",
              "      <td>0</td>\n",
              "      <td>0</td>\n",
              "      <td>0</td>\n",
              "      <td>1</td>\n",
              "      <td>0</td>\n",
              "      <td>0</td>\n",
              "      <td>0</td>\n",
              "      <td>1</td>\n",
              "      <td>0</td>\n",
              "      <td>0</td>\n",
              "      <td>0</td>\n",
              "      <td>0</td>\n",
              "      <td>0</td>\n",
              "    </tr>\n",
              "  </tbody>\n",
              "</table>\n",
              "<p>10750 rows × 23 columns</p>\n",
              "</div>"
            ],
            "text/plain": [
              "          carat     depth         x  ...  clarity_VS2  clarity_VVS1  clarity_VVS2\n",
              "42082 -1.209738  0.104480 -0.201832  ...            0             0             1\n",
              "37125 -0.887259  0.597508 -1.779729  ...            0             0             0\n",
              "30331 -1.145243 -0.318115 -0.201832  ...            0             0             1\n",
              "10243  0.467154  1.372266  1.150652  ...            0             0             0\n",
              "36658 -0.908758 -0.388548  1.150652  ...            1             0             0\n",
              "...         ...       ...       ...  ...          ...           ...           ...\n",
              "9785   0.467154 -0.388548 -1.554315  ...            0             0             0\n",
              "35748 -0.822763 -1.022441  2.503135  ...            0             0             0\n",
              "36884 -0.822763 -1.374604  0.699824  ...            0             0             0\n",
              "17085  0.488652  0.527075 -0.201832  ...            1             0             0\n",
              "9005   0.467154  0.034047  1.601479  ...            0             0             0\n",
              "\n",
              "[10750 rows x 23 columns]"
            ]
          },
          "metadata": {
            "tags": []
          },
          "execution_count": 0
        }
      ]
    },
    {
      "cell_type": "code",
      "metadata": {
        "colab": {
          "base_uri": "https://localhost:8080/"
        },
        "id": "ZCPseA0qZqjg",
        "outputId": "cf2c1f2a-f77d-4d49-c798-9dfe2c0d3c88"
      },
      "source": [
        "y_train"
      ],
      "execution_count": null,
      "outputs": [
        {
          "output_type": "execute_result",
          "data": {
            "text/plain": [
              "9071      4520\n",
              "45353     1687\n",
              "2952      3295\n",
              "46064     1754\n",
              "3561      3418\n",
              "         ...  \n",
              "32880      814\n",
              "38819     1056\n",
              "33336      829\n",
              "22619    10685\n",
              "49701     2177\n",
              "Name: price, Length: 32248, dtype: int64"
            ]
          },
          "metadata": {
            "tags": []
          },
          "execution_count": 0
        }
      ]
    },
    {
      "cell_type": "code",
      "metadata": {
        "colab": {
          "base_uri": "https://localhost:8080/"
        },
        "id": "ve1B3_oBK-d3",
        "outputId": "5ceb4e09-5863-42f8-b7eb-f304db42f62f"
      },
      "source": [
        "y_test"
      ],
      "execution_count": null,
      "outputs": [
        {
          "output_type": "execute_result",
          "data": {
            "text/plain": [
              "42082     505\n",
              "37125     979\n",
              "30331     733\n",
              "10243    4749\n",
              "36658     957\n",
              "         ... \n",
              "9785     4666\n",
              "35748     920\n",
              "36884     969\n",
              "17085    6816\n",
              "9005     4513\n",
              "Name: price, Length: 10750, dtype: int64"
            ]
          },
          "metadata": {
            "tags": []
          },
          "execution_count": 0
        }
      ]
    },
    {
      "cell_type": "code",
      "metadata": {
        "colab": {
          "base_uri": "https://localhost:8080/",
          "height": 438
        },
        "id": "QKD477RuLFnz",
        "outputId": "099de3bb-fbe3-47a6-db19-745b7e1c6f9a"
      },
      "source": [
        "X_validation"
      ],
      "execution_count": null,
      "outputs": [
        {
          "output_type": "execute_result",
          "data": {
            "text/html": [
              "<div>\n",
              "<style scoped>\n",
              "    .dataframe tbody tr th:only-of-type {\n",
              "        vertical-align: middle;\n",
              "    }\n",
              "\n",
              "    .dataframe tbody tr th {\n",
              "        vertical-align: top;\n",
              "    }\n",
              "\n",
              "    .dataframe thead th {\n",
              "        text-align: right;\n",
              "    }\n",
              "</style>\n",
              "<table border=\"1\" class=\"dataframe\">\n",
              "  <thead>\n",
              "    <tr style=\"text-align: right;\">\n",
              "      <th></th>\n",
              "      <th>carat</th>\n",
              "      <th>depth</th>\n",
              "      <th>x</th>\n",
              "      <th>y</th>\n",
              "      <th>z</th>\n",
              "      <th>table</th>\n",
              "      <th>cut_Good</th>\n",
              "      <th>cut_Ideal</th>\n",
              "      <th>cut_Premium</th>\n",
              "      <th>cut_Very Good</th>\n",
              "      <th>color_E</th>\n",
              "      <th>color_F</th>\n",
              "      <th>color_G</th>\n",
              "      <th>color_H</th>\n",
              "      <th>color_I</th>\n",
              "      <th>color_J</th>\n",
              "      <th>clarity_IF</th>\n",
              "      <th>clarity_SI1</th>\n",
              "      <th>clarity_SI2</th>\n",
              "      <th>clarity_VS1</th>\n",
              "      <th>clarity_VS2</th>\n",
              "      <th>clarity_VVS1</th>\n",
              "      <th>clarity_VVS2</th>\n",
              "    </tr>\n",
              "  </thead>\n",
              "  <tbody>\n",
              "    <tr>\n",
              "      <th>8354</th>\n",
              "      <td>-0.048813</td>\n",
              "      <td>-1.092873</td>\n",
              "      <td>0.248996</td>\n",
              "      <td>0.186820</td>\n",
              "      <td>0.221027</td>\n",
              "      <td>0.065004</td>\n",
              "      <td>0</td>\n",
              "      <td>0</td>\n",
              "      <td>0</td>\n",
              "      <td>1</td>\n",
              "      <td>0</td>\n",
              "      <td>1</td>\n",
              "      <td>0</td>\n",
              "      <td>0</td>\n",
              "      <td>0</td>\n",
              "      <td>0</td>\n",
              "      <td>0</td>\n",
              "      <td>0</td>\n",
              "      <td>0</td>\n",
              "      <td>0</td>\n",
              "      <td>0</td>\n",
              "      <td>1</td>\n",
              "      <td>0</td>\n",
              "    </tr>\n",
              "    <tr>\n",
              "      <th>53478</th>\n",
              "      <td>0.101677</td>\n",
              "      <td>-0.458980</td>\n",
              "      <td>-0.201832</td>\n",
              "      <td>0.331024</td>\n",
              "      <td>0.356468</td>\n",
              "      <td>0.280308</td>\n",
              "      <td>0</td>\n",
              "      <td>1</td>\n",
              "      <td>0</td>\n",
              "      <td>0</td>\n",
              "      <td>0</td>\n",
              "      <td>0</td>\n",
              "      <td>0</td>\n",
              "      <td>0</td>\n",
              "      <td>0</td>\n",
              "      <td>1</td>\n",
              "      <td>0</td>\n",
              "      <td>0</td>\n",
              "      <td>0</td>\n",
              "      <td>0</td>\n",
              "      <td>1</td>\n",
              "      <td>0</td>\n",
              "      <td>0</td>\n",
              "    </tr>\n",
              "    <tr>\n",
              "      <th>37847</th>\n",
              "      <td>-1.059248</td>\n",
              "      <td>1.231401</td>\n",
              "      <td>0.248996</td>\n",
              "      <td>-1.273246</td>\n",
              "      <td>-1.350084</td>\n",
              "      <td>-1.183756</td>\n",
              "      <td>0</td>\n",
              "      <td>0</td>\n",
              "      <td>0</td>\n",
              "      <td>1</td>\n",
              "      <td>0</td>\n",
              "      <td>0</td>\n",
              "      <td>0</td>\n",
              "      <td>0</td>\n",
              "      <td>0</td>\n",
              "      <td>0</td>\n",
              "      <td>0</td>\n",
              "      <td>0</td>\n",
              "      <td>0</td>\n",
              "      <td>0</td>\n",
              "      <td>0</td>\n",
              "      <td>0</td>\n",
              "      <td>1</td>\n",
              "    </tr>\n",
              "    <tr>\n",
              "      <th>3844</th>\n",
              "      <td>0.101677</td>\n",
              "      <td>-0.036385</td>\n",
              "      <td>-1.103487</td>\n",
              "      <td>0.312999</td>\n",
              "      <td>0.347438</td>\n",
              "      <td>0.323368</td>\n",
              "      <td>0</td>\n",
              "      <td>1</td>\n",
              "      <td>0</td>\n",
              "      <td>0</td>\n",
              "      <td>0</td>\n",
              "      <td>0</td>\n",
              "      <td>0</td>\n",
              "      <td>0</td>\n",
              "      <td>1</td>\n",
              "      <td>0</td>\n",
              "      <td>0</td>\n",
              "      <td>0</td>\n",
              "      <td>0</td>\n",
              "      <td>0</td>\n",
              "      <td>1</td>\n",
              "      <td>0</td>\n",
              "      <td>0</td>\n",
              "    </tr>\n",
              "    <tr>\n",
              "      <th>33509</th>\n",
              "      <td>-0.994752</td>\n",
              "      <td>-0.458980</td>\n",
              "      <td>-0.652659</td>\n",
              "      <td>-1.129042</td>\n",
              "      <td>-1.106291</td>\n",
              "      <td>-1.140695</td>\n",
              "      <td>0</td>\n",
              "      <td>1</td>\n",
              "      <td>0</td>\n",
              "      <td>0</td>\n",
              "      <td>0</td>\n",
              "      <td>0</td>\n",
              "      <td>1</td>\n",
              "      <td>0</td>\n",
              "      <td>0</td>\n",
              "      <td>0</td>\n",
              "      <td>0</td>\n",
              "      <td>0</td>\n",
              "      <td>0</td>\n",
              "      <td>0</td>\n",
              "      <td>0</td>\n",
              "      <td>1</td>\n",
              "      <td>0</td>\n",
              "    </tr>\n",
              "    <tr>\n",
              "      <th>...</th>\n",
              "      <td>...</td>\n",
              "      <td>...</td>\n",
              "      <td>...</td>\n",
              "      <td>...</td>\n",
              "      <td>...</td>\n",
              "      <td>...</td>\n",
              "      <td>...</td>\n",
              "      <td>...</td>\n",
              "      <td>...</td>\n",
              "      <td>...</td>\n",
              "      <td>...</td>\n",
              "      <td>...</td>\n",
              "      <td>...</td>\n",
              "      <td>...</td>\n",
              "      <td>...</td>\n",
              "      <td>...</td>\n",
              "      <td>...</td>\n",
              "      <td>...</td>\n",
              "      <td>...</td>\n",
              "      <td>...</td>\n",
              "      <td>...</td>\n",
              "      <td>...</td>\n",
              "      <td>...</td>\n",
              "    </tr>\n",
              "    <tr>\n",
              "      <th>16304</th>\n",
              "      <td>0.467154</td>\n",
              "      <td>1.372266</td>\n",
              "      <td>-0.652659</td>\n",
              "      <td>0.583381</td>\n",
              "      <td>0.509967</td>\n",
              "      <td>0.710915</td>\n",
              "      <td>1</td>\n",
              "      <td>0</td>\n",
              "      <td>0</td>\n",
              "      <td>0</td>\n",
              "      <td>0</td>\n",
              "      <td>0</td>\n",
              "      <td>1</td>\n",
              "      <td>0</td>\n",
              "      <td>0</td>\n",
              "      <td>0</td>\n",
              "      <td>0</td>\n",
              "      <td>0</td>\n",
              "      <td>0</td>\n",
              "      <td>1</td>\n",
              "      <td>0</td>\n",
              "      <td>0</td>\n",
              "      <td>0</td>\n",
              "    </tr>\n",
              "    <tr>\n",
              "      <th>79</th>\n",
              "      <td>-1.145243</td>\n",
              "      <td>0.597508</td>\n",
              "      <td>0.699824</td>\n",
              "      <td>-1.498565</td>\n",
              "      <td>-1.476495</td>\n",
              "      <td>-1.413413</td>\n",
              "      <td>0</td>\n",
              "      <td>0</td>\n",
              "      <td>0</td>\n",
              "      <td>1</td>\n",
              "      <td>1</td>\n",
              "      <td>0</td>\n",
              "      <td>0</td>\n",
              "      <td>0</td>\n",
              "      <td>0</td>\n",
              "      <td>0</td>\n",
              "      <td>0</td>\n",
              "      <td>0</td>\n",
              "      <td>0</td>\n",
              "      <td>0</td>\n",
              "      <td>0</td>\n",
              "      <td>1</td>\n",
              "      <td>0</td>\n",
              "    </tr>\n",
              "    <tr>\n",
              "      <th>12119</th>\n",
              "      <td>1.090614</td>\n",
              "      <td>0.104480</td>\n",
              "      <td>-0.201832</td>\n",
              "      <td>1.160197</td>\n",
              "      <td>1.105905</td>\n",
              "      <td>1.127168</td>\n",
              "      <td>0</td>\n",
              "      <td>1</td>\n",
              "      <td>0</td>\n",
              "      <td>0</td>\n",
              "      <td>0</td>\n",
              "      <td>0</td>\n",
              "      <td>1</td>\n",
              "      <td>0</td>\n",
              "      <td>0</td>\n",
              "      <td>0</td>\n",
              "      <td>0</td>\n",
              "      <td>0</td>\n",
              "      <td>1</td>\n",
              "      <td>0</td>\n",
              "      <td>0</td>\n",
              "      <td>0</td>\n",
              "      <td>0</td>\n",
              "    </tr>\n",
              "    <tr>\n",
              "      <th>14147</th>\n",
              "      <td>0.445655</td>\n",
              "      <td>-1.163306</td>\n",
              "      <td>2.052307</td>\n",
              "      <td>0.592394</td>\n",
              "      <td>0.672496</td>\n",
              "      <td>0.466904</td>\n",
              "      <td>1</td>\n",
              "      <td>0</td>\n",
              "      <td>0</td>\n",
              "      <td>0</td>\n",
              "      <td>0</td>\n",
              "      <td>0</td>\n",
              "      <td>0</td>\n",
              "      <td>1</td>\n",
              "      <td>0</td>\n",
              "      <td>0</td>\n",
              "      <td>0</td>\n",
              "      <td>0</td>\n",
              "      <td>0</td>\n",
              "      <td>1</td>\n",
              "      <td>0</td>\n",
              "      <td>0</td>\n",
              "      <td>0</td>\n",
              "    </tr>\n",
              "    <tr>\n",
              "      <th>38408</th>\n",
              "      <td>-0.887259</td>\n",
              "      <td>-0.036385</td>\n",
              "      <td>-1.554315</td>\n",
              "      <td>-0.957799</td>\n",
              "      <td>-0.943762</td>\n",
              "      <td>-0.939745</td>\n",
              "      <td>0</td>\n",
              "      <td>1</td>\n",
              "      <td>0</td>\n",
              "      <td>0</td>\n",
              "      <td>1</td>\n",
              "      <td>0</td>\n",
              "      <td>0</td>\n",
              "      <td>0</td>\n",
              "      <td>0</td>\n",
              "      <td>0</td>\n",
              "      <td>0</td>\n",
              "      <td>0</td>\n",
              "      <td>0</td>\n",
              "      <td>0</td>\n",
              "      <td>1</td>\n",
              "      <td>0</td>\n",
              "      <td>0</td>\n",
              "    </tr>\n",
              "  </tbody>\n",
              "</table>\n",
              "<p>10750 rows × 23 columns</p>\n",
              "</div>"
            ],
            "text/plain": [
              "          carat     depth         x  ...  clarity_VS2  clarity_VVS1  clarity_VVS2\n",
              "8354  -0.048813 -1.092873  0.248996  ...            0             1             0\n",
              "53478  0.101677 -0.458980 -0.201832  ...            1             0             0\n",
              "37847 -1.059248  1.231401  0.248996  ...            0             0             1\n",
              "3844   0.101677 -0.036385 -1.103487  ...            1             0             0\n",
              "33509 -0.994752 -0.458980 -0.652659  ...            0             1             0\n",
              "...         ...       ...       ...  ...          ...           ...           ...\n",
              "16304  0.467154  1.372266 -0.652659  ...            0             0             0\n",
              "79    -1.145243  0.597508  0.699824  ...            0             1             0\n",
              "12119  1.090614  0.104480 -0.201832  ...            0             0             0\n",
              "14147  0.445655 -1.163306  2.052307  ...            0             0             0\n",
              "38408 -0.887259 -0.036385 -1.554315  ...            1             0             0\n",
              "\n",
              "[10750 rows x 23 columns]"
            ]
          },
          "metadata": {
            "tags": []
          },
          "execution_count": 0
        }
      ]
    },
    {
      "cell_type": "code",
      "metadata": {
        "colab": {
          "base_uri": "https://localhost:8080/"
        },
        "id": "fO1yOngmLJOF",
        "outputId": "f2de9bed-c40d-4c46-fa62-1eae8e166768"
      },
      "source": [
        "y_validation"
      ],
      "execution_count": null,
      "outputs": [
        {
          "output_type": "execute_result",
          "data": {
            "text/plain": [
              "8354     4399\n",
              "53478    2709\n",
              "37847    1010\n",
              "3844     3475\n",
              "33509     838\n",
              "         ... \n",
              "16304    6529\n",
              "79        554\n",
              "12119    5169\n",
              "14147    5743\n",
              "38408    1038\n",
              "Name: price, Length: 10750, dtype: int64"
            ]
          },
          "metadata": {
            "tags": []
          },
          "execution_count": 0
        }
      ]
    },
    {
      "cell_type": "code",
      "metadata": {
        "id": "xF7JtW87eVSI"
      },
      "source": [
        "dt_reg=DecisionTreeRegressor()"
      ],
      "execution_count": null,
      "outputs": []
    },
    {
      "cell_type": "code",
      "metadata": {
        "colab": {
          "base_uri": "https://localhost:8080/"
        },
        "id": "z7C0u6hgkPx8",
        "outputId": "1b58d269-a020-42ae-f931-aef66fd9c40a"
      },
      "source": [
        "dt_reg.fit(X_train,y_train)"
      ],
      "execution_count": null,
      "outputs": [
        {
          "output_type": "execute_result",
          "data": {
            "text/plain": [
              "DecisionTreeRegressor(ccp_alpha=0.0, criterion='mse', max_depth=None,\n",
              "                      max_features=None, max_leaf_nodes=None,\n",
              "                      min_impurity_decrease=0.0, min_impurity_split=None,\n",
              "                      min_samples_leaf=1, min_samples_split=2,\n",
              "                      min_weight_fraction_leaf=0.0, presort='deprecated',\n",
              "                      random_state=None, splitter='best')"
            ]
          },
          "metadata": {
            "tags": []
          },
          "execution_count": 0
        }
      ]
    },
    {
      "cell_type": "code",
      "metadata": {
        "colab": {
          "base_uri": "https://localhost:8080/"
        },
        "id": "p4nbpHwWkUK3",
        "outputId": "c8babb25-7cbf-4c66-ac46-2028460555e5"
      },
      "source": [
        "new_train_error = mean_squared_error(y_train, dt_reg.predict(X_train))\n",
        "new_validation_error = mean_squared_error(y_validation, dt_reg.predict(X_validation))\n",
        "new_test_error = mean_squared_error(y_test, dt_reg.predict(X_test))\n",
        "# print errors as report\n",
        "print(' train error: {:5} | val error: {:6} | test error: {}'.\n",
        "          format(\n",
        "                 round(new_train_error,3),\n",
        "                 round(new_validation_error,3),\n",
        "                 round(new_test_error,3)))"
      ],
      "execution_count": null,
      "outputs": [
        {
          "output_type": "stream",
          "text": [
            " train error: 65.923 | val error: 726125.342 | test error: 640351.223\n"
          ],
          "name": "stdout"
        }
      ]
    },
    {
      "cell_type": "code",
      "metadata": {
        "colab": {
          "base_uri": "https://localhost:8080/"
        },
        "id": "B6b7gJSgNSQr",
        "outputId": "3c498eb1-aa6f-4737-e67e-d48a8031499a"
      },
      "source": [
        "print(\"Mean squared error: {}\".format(mean_squared_error(y_test, dt_reg.predict(X_test))))\n",
        "print(\"Root Mean squared error: {}\".format(np.sqrt(mean_squared_error(y_test, dt_reg.predict(X_test)))))\n",
        "R2 = r2_score(y_test,dt_reg.predict(X_test))\n",
        "print('R Squared: {}'.format(R2))\n",
        "n=X_test.shape[0]\n",
        "p=X_test.shape[1] - 1\n",
        "\n",
        "adj_rsquared = 1 - ((1 - R2) * ((n - 1)/(n-p-1)))\n",
        "print('Adjusted R Squared: {}'.format(adj_rsquared))"
      ],
      "execution_count": null,
      "outputs": [
        {
          "output_type": "stream",
          "text": [
            "Mean squared error: 640351.2229069767\n",
            "Root Mean squared error: 800.2194842085369\n",
            "R Squared: 0.9592237800254477\n",
            "Adjusted R Squared: 0.9591401520922473\n"
          ],
          "name": "stdout"
        }
      ]
    },
    {
      "cell_type": "code",
      "metadata": {
        "id": "QJMPOo_bk0cq",
        "colab": {
          "base_uri": "https://localhost:8080/"
        },
        "outputId": "9b39e38b-58f1-46af-d133-2a025e03f9fc"
      },
      "source": [
        "knn_reg=KNeighborsRegressor(n_neighbors=10)\n",
        "knn_reg.fit(X_train,y_train)"
      ],
      "execution_count": null,
      "outputs": [
        {
          "output_type": "execute_result",
          "data": {
            "text/plain": [
              "KNeighborsRegressor(algorithm='auto', leaf_size=30, metric='minkowski',\n",
              "                    metric_params=None, n_jobs=None, n_neighbors=10, p=2,\n",
              "                    weights='uniform')"
            ]
          },
          "metadata": {
            "tags": []
          },
          "execution_count": 0
        }
      ]
    },
    {
      "cell_type": "code",
      "metadata": {
        "colab": {
          "base_uri": "https://localhost:8080/"
        },
        "id": "oZFRHe40Oi69",
        "outputId": "e0da626b-4567-49e6-9260-9fbdb0be9c70"
      },
      "source": [
        "new_train_error = mean_squared_error(y_train, knn_reg.predict(X_train))\n",
        "new_validation_error = mean_squared_error(y_validation, knn_reg.predict(X_validation))\n",
        "new_test_error = mean_squared_error(y_test, knn_reg.predict(X_test))\n",
        "# print errors as report\n",
        "print(' train error: {:5} | val error: {:6} | test error: {}'.\n",
        "          format(\n",
        "                 round(new_train_error,3),\n",
        "                 round(new_validation_error,3),\n",
        "                 round(new_test_error,3))) "
      ],
      "execution_count": null,
      "outputs": [
        {
          "output_type": "stream",
          "text": [
            " train error: 606865.777 | val error: 780834.828 | test error: 721214.281\n"
          ],
          "name": "stdout"
        }
      ]
    },
    {
      "cell_type": "code",
      "metadata": {
        "colab": {
          "base_uri": "https://localhost:8080/"
        },
        "id": "4EOU3D2fWeW5",
        "outputId": "5b5b6554-00c9-4de1-cf64-c523f4245fdf"
      },
      "source": [
        "print(\"Mean squared error: {}\".format(mean_squared_error(y_test, knn_reg.predict(X_test))))\n",
        "print(\"Root Mean squared error: {}\".format(np.sqrt(mean_squared_error(y_test, knn_reg.predict(X_test)))))\n",
        "R2 = r2_score(y_test,knn_reg.predict(X_test))\n",
        "print('R Squared: {}'.format(R2))\n",
        "n=X_test.shape[0]\n",
        "p=X_test.shape[1] - 1\n",
        "\n",
        "adj_rsquared = 1 - ((1 - R2) * ((n - 1)/(n-p-1)))\n",
        "print('Adjusted R Squared: {}'.format(adj_rsquared))"
      ],
      "execution_count": null,
      "outputs": [
        {
          "output_type": "stream",
          "text": [
            "Mean squared error: 721214.280979535\n",
            "Root Mean squared error: 849.2433579248853\n",
            "R Squared: 0.9540745904466209\n",
            "Adjusted R Squared: 0.9539804020425774\n"
          ],
          "name": "stdout"
        }
      ]
    },
    {
      "cell_type": "code",
      "metadata": {
        "colab": {
          "base_uri": "https://localhost:8080/"
        },
        "id": "zlXu5y8GWoJ0",
        "outputId": "71447bad-7ed6-42ca-dec9-6c09be3742f8"
      },
      "source": [
        "rf=RandomForestRegressor()\n",
        "rf.fit(X_train,y_train)"
      ],
      "execution_count": null,
      "outputs": [
        {
          "output_type": "execute_result",
          "data": {
            "text/plain": [
              "RandomForestRegressor(bootstrap=True, ccp_alpha=0.0, criterion='mse',\n",
              "                      max_depth=None, max_features='auto', max_leaf_nodes=None,\n",
              "                      max_samples=None, min_impurity_decrease=0.0,\n",
              "                      min_impurity_split=None, min_samples_leaf=1,\n",
              "                      min_samples_split=2, min_weight_fraction_leaf=0.0,\n",
              "                      n_estimators=100, n_jobs=None, oob_score=False,\n",
              "                      random_state=None, verbose=0, warm_start=False)"
            ]
          },
          "metadata": {
            "tags": []
          },
          "execution_count": 60
        }
      ]
    },
    {
      "cell_type": "code",
      "metadata": {
        "colab": {
          "base_uri": "https://localhost:8080/"
        },
        "id": "WtuKKdIRWkN-",
        "outputId": "4300d2d4-ac0d-4003-9be3-87e8fcd07295"
      },
      "source": [
        "new_train_error = mean_squared_error(y_train, rf.predict(X_train))\n",
        "new_validation_error = mean_squared_error(y_validation, rf.predict(X_validation))\n",
        "new_test_error = mean_squared_error(y_test, rf.predict(X_test))\n",
        "# print errors as report\n",
        "print(' train error: {:5} | val error: {:6} | test error: {}'.\n",
        "          format(\n",
        "                 round(new_train_error,3),\n",
        "                 round(new_validation_error,3),\n",
        "                 round(new_test_error,3)))"
      ],
      "execution_count": null,
      "outputs": [
        {
          "output_type": "stream",
          "text": [
            " train error: 57556.061 | val error: 393350.596 | test error: 378563.83\n"
          ],
          "name": "stdout"
        }
      ]
    },
    {
      "cell_type": "code",
      "metadata": {
        "colab": {
          "base_uri": "https://localhost:8080/"
        },
        "id": "dhHda8yfnrQG",
        "outputId": "7fb6ca5c-456d-4b9c-934b-da0f3e0a443c"
      },
      "source": [
        "print(\"Mean squared error: {}\".format(mean_squared_error(y_test, rf.predict(X_test))))\n",
        "print(\"Root Mean squared error: {}\".format(np.sqrt(mean_squared_error(y_test, rf.predict(X_test)))))\n",
        "R2 = r2_score(y_test,rf.predict(X_test))\n",
        "print('R Squared: {}'.format(R2))\n",
        "n=X_test.shape[0]\n",
        "p=X_test.shape[1] - 1\n",
        "\n",
        "adj_rsquared = 1 - ((1 - R2) * ((n - 1)/(n-p-1)))\n",
        "print('Adjusted R Squared: {}'.format(adj_rsquared))"
      ],
      "execution_count": null,
      "outputs": [
        {
          "output_type": "stream",
          "text": [
            "Mean squared error: 378563.82961140346\n",
            "Root Mean squared error: 615.2754095617697\n",
            "R Squared: 0.9758938510016932\n",
            "Adjusted R Squared: 0.9758444117103757\n"
          ],
          "name": "stdout"
        }
      ]
    },
    {
      "cell_type": "code",
      "metadata": {
        "id": "bde47tXTn7_2"
      },
      "source": [
        "adaboost_reg=AdaBoostRegressor(learning_rate=0.01)"
      ],
      "execution_count": null,
      "outputs": []
    },
    {
      "cell_type": "code",
      "metadata": {
        "colab": {
          "base_uri": "https://localhost:8080/"
        },
        "id": "XQTqiqE_jf0s",
        "outputId": "11296c33-fffc-4f9e-8542-f53b8e84b54e"
      },
      "source": [
        "adaboost_reg.fit(X_train,y_train)"
      ],
      "execution_count": null,
      "outputs": [
        {
          "output_type": "execute_result",
          "data": {
            "text/plain": [
              "AdaBoostRegressor(base_estimator=None, learning_rate=0.01, loss='linear',\n",
              "                  n_estimators=50, random_state=None)"
            ]
          },
          "metadata": {
            "tags": []
          },
          "execution_count": 64
        }
      ]
    },
    {
      "cell_type": "code",
      "metadata": {
        "colab": {
          "base_uri": "https://localhost:8080/"
        },
        "id": "9C-YWFHjjqaK",
        "outputId": "193ab7b7-22eb-428f-a94f-aae6c78a4ebf"
      },
      "source": [
        "new_train_error = mean_squared_error(y_train, adaboost_reg.predict(X_train))\n",
        "new_validation_error = mean_squared_error(y_validation, adaboost_reg.predict(X_validation))\n",
        "new_test_error = mean_squared_error(y_test, adaboost_reg.predict(X_test))\n",
        "# print errors as report\n",
        "print(' train error: {:5} | val error: {:6} | test error: {}'.\n",
        "          format(\n",
        "                 round(new_train_error,3),\n",
        "                 round(new_validation_error,3),\n",
        "                 round(new_test_error,3)))"
      ],
      "execution_count": null,
      "outputs": [
        {
          "output_type": "stream",
          "text": [
            " train error: 1952272.182 | val error: 2029050.268 | test error: 1930522.911\n"
          ],
          "name": "stdout"
        }
      ]
    },
    {
      "cell_type": "code",
      "metadata": {
        "colab": {
          "base_uri": "https://localhost:8080/"
        },
        "id": "aRhRn4rOnBSe",
        "outputId": "710f2d39-3710-4bb2-dc0e-4f28bb9377f8"
      },
      "source": [
        "print(\"Mean squared error: {}\".format(mean_squared_error(y_test, adaboost_reg.predict(X_test))))\n",
        "print(\"Root Mean squared error: {}\".format(np.sqrt(mean_squared_error(y_test, adaboost_reg.predict(X_test)))))\n",
        "R2 = r2_score(y_test,adaboost_reg.predict(X_test))\n",
        "print('R Squared: {}'.format(R2))\n",
        "n=X_test.shape[0]\n",
        "p=X_test.shape[1] - 1\n",
        "\n",
        "adj_rsquared = 1 - ((1 - R2) * ((n - 1)/(n-p-1)))\n",
        "print('Adjusted R Squared: {}'.format(adj_rsquared))"
      ],
      "execution_count": null,
      "outputs": [
        {
          "output_type": "stream",
          "text": [
            "Mean squared error: 1930522.9107750433\n",
            "Root Mean squared error: 1389.4325859051396\n",
            "R Squared: 0.8770683586449376\n",
            "Adjusted R Squared: 0.8768162381909606\n"
          ],
          "name": "stdout"
        }
      ]
    },
    {
      "cell_type": "code",
      "metadata": {
        "id": "ngJOuFTonSg-"
      },
      "source": [
        ""
      ],
      "execution_count": null,
      "outputs": []
    }
  ]
}